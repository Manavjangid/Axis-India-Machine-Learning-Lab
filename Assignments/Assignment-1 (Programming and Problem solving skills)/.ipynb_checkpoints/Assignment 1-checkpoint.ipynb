{
 "cells": [
  {
   "cell_type": "markdown",
   "metadata": {},
   "source": [
    "# Write a code to take any 10 numbers in a list and put all the even numbers as well as prime numbers in a dictionary. Your output should look something like this: \n",
    "\n",
    "# Suppose the list has following 10 numbers:\n",
    "\n",
    "# [25, 36, 31, 17, 61, 19, 58, 39, 67, 81]\n",
    "\n",
    "# Then the output of your program should look something like this: \n",
    "\n",
    "# {'even' : [36, 58], 'prime' : [31, 17, 61, 19, 67]}"
   ]
  },
  {
   "cell_type": "markdown",
   "metadata": {},
   "source": [
    "# Don't forget to apply divide and conquer strategy. So think about the solution first about only a single number and then build upon it. "
   ]
  },
  {
   "cell_type": "code",
   "execution_count": 1,
   "metadata": {},
   "outputs": [],
   "source": [
    "import numpy as np"
   ]
  },
  {
   "cell_type": "code",
   "execution_count": 2,
   "metadata": {},
   "outputs": [],
   "source": [
    "l = list(np.random.randint(low=10, high=100, size=10))"
   ]
  },
  {
   "cell_type": "code",
   "execution_count": 3,
   "metadata": {},
   "outputs": [
    {
     "data": {
      "text/plain": [
       "[89, 74, 42, 40, 77, 57, 71, 18, 89, 43]"
      ]
     },
     "execution_count": 3,
     "metadata": {},
     "output_type": "execute_result"
    }
   ],
   "source": [
    "l"
   ]
  },
  {
   "cell_type": "code",
   "execution_count": 4,
   "metadata": {},
   "outputs": [],
   "source": [
    "result = {'even':[], 'prime':[]}\n",
    "for i in l:\n",
    "    if i % 2 == 0:\n",
    "        result['even'].append(i)\n",
    "        \n",
    "    else:\n",
    "        prime = True\n",
    "        for j in range(2, i//2):\n",
    "            if i % j == 0:\n",
    "                prime = False\n",
    "        if prime:\n",
    "            result['prime'].append(i)"
   ]
  },
  {
   "cell_type": "code",
   "execution_count": 5,
   "metadata": {},
   "outputs": [
    {
     "data": {
      "text/plain": [
       "{'even': [74, 42, 40, 18], 'prime': [89, 71, 89, 43]}"
      ]
     },
     "execution_count": 5,
     "metadata": {},
     "output_type": "execute_result"
    }
   ],
   "source": [
    "result"
   ]
  }
 ],
 "metadata": {
  "kernelspec": {
   "display_name": "Python 3",
   "language": "python",
   "name": "python3"
  },
  "language_info": {
   "codemirror_mode": {
    "name": "ipython",
    "version": 3
   },
   "file_extension": ".py",
   "mimetype": "text/x-python",
   "name": "python",
   "nbconvert_exporter": "python",
   "pygments_lexer": "ipython3",
   "version": "3.7.6"
  }
 },
 "nbformat": 4,
 "nbformat_minor": 2
}
