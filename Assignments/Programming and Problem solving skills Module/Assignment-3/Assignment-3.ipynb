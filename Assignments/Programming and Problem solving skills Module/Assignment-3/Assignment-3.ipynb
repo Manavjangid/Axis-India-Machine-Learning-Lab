{
 "cells": [
  {
   "cell_type": "markdown",
   "metadata": {},
   "source": [
    "# Write a program to go through 1000 random integers and check whether they are even or prime. In order to create a list of 1000 random integers, you can write the following statement: \n",
    "\n",
    "# import numpy as np\n",
    "\n",
    "# random_integers = np.random.randint(low=0, high=2000, size=(1000,))\n",
    "\n",
    "# Now pass the list of these 1000 random integers to a user defined function called even_prime_list_creation. This function will accept a list of 1000 random integers and return two lists of even as well as prime numbers. Make sure that your function does this in a recursive manner (remember that you can't use loop to go through each number in a list of 1000 random integers, that has to be done in a recursive manner)\n",
    "\n",
    "# Now, in order to create a list of even as well as prime numbers, even_prime_list_creation should know that which number is an even number and which number is a prime number. Well even number is easy to check so your function even_prime_list_creation can itself check whether the number is even or not but in order to check whether the number is prime or not, even_prime_list_creation is going to call another function called is_prime. This, is_prime function will accept a number and check whether it's prime or not in a recursive manner (again you can't use a loop to check whether the number is prime or not, that has to be done in a recursive manner) and is going to return True or False accordingly. \n",
    "\n",
    "# So, both functions should do their job in a recursive manner. And the final outcome should be two lists, one of even number and one of prime numbers. "
   ]
  },
  {
   "cell_type": "code",
   "execution_count": 1,
   "metadata": {},
   "outputs": [],
   "source": [
    "import numpy as np"
   ]
  },
  {
   "cell_type": "code",
   "execution_count": 2,
   "metadata": {},
   "outputs": [],
   "source": [
    "random_integers = list(np.random.randint(low=0, high=2000, size=100))"
   ]
  },
  {
   "cell_type": "code",
   "execution_count": 3,
   "metadata": {},
   "outputs": [],
   "source": [
    "def is_prime(number, n=2):\n",
    "    if (number%n == 0):\n",
    "        return False\n",
    "    elif (n == number//2):\n",
    "        return True\n",
    "    else:       \n",
    "        return is_prime(number, n+1)"
   ]
  },
  {
   "cell_type": "code",
   "execution_count": 4,
   "metadata": {},
   "outputs": [],
   "source": [
    "def even_prime_list_creation(l, n=0, even=[], prime=[]):\n",
    "    if l[n]%2 == 0:\n",
    "        even.append(l[n])\n",
    "    elif is_prime(l[n]):\n",
    "        prime.append(l[n])\n",
    "        \n",
    "    if n == len(l)-1:\n",
    "        return even, prime\n",
    "    else:\n",
    "        return even_prime_list_creation(l, n+1, even, prime)"
   ]
  },
  {
   "cell_type": "code",
   "execution_count": 5,
   "metadata": {},
   "outputs": [],
   "source": [
    "e,p = even_prime_list_creation(random_integers)"
   ]
  },
  {
   "cell_type": "code",
   "execution_count": 6,
   "metadata": {},
   "outputs": [
    {
     "name": "stdout",
     "output_type": "stream",
     "text": [
      "[1172, 1690, 1414, 1636, 1184, 1142, 1434, 1696, 1226, 22, 142, 1064, 1760, 352, 50, 880, 560, 1338, 936, 356, 1102, 392, 1960, 1294, 382, 1044, 1638, 562, 1922, 1186, 1696, 1984, 1074, 776, 764, 1888, 306, 1512, 824, 840, 716, 1952, 212, 150, 1776, 738, 284, 598, 1196, 1590, 1250, 128, 1230]\n"
     ]
    }
   ],
   "source": [
    "print(e)"
   ]
  },
  {
   "cell_type": "code",
   "execution_count": 7,
   "metadata": {},
   "outputs": [
    {
     "name": "stdout",
     "output_type": "stream",
     "text": [
      "[1669, 47, 523, 313, 103, 1249, 197, 397, 1087, 757, 1429, 1549, 1171, 587, 139, 31, 11, 43]\n"
     ]
    }
   ],
   "source": [
    "print(p)"
   ]
  }
 ],
 "metadata": {
  "kernelspec": {
   "display_name": "Python 3",
   "language": "python",
   "name": "python3"
  },
  "language_info": {
   "codemirror_mode": {
    "name": "ipython",
    "version": 3
   },
   "file_extension": ".py",
   "mimetype": "text/x-python",
   "name": "python",
   "nbconvert_exporter": "python",
   "pygments_lexer": "ipython3",
   "version": "3.7.6"
  }
 },
 "nbformat": 4,
 "nbformat_minor": 2
}
