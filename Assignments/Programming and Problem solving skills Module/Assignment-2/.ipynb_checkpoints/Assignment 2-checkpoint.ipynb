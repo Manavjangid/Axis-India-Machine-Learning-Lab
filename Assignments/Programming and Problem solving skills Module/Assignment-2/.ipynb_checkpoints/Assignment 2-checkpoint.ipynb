{
 "cells": [
  {
   "cell_type": "markdown",
   "metadata": {},
   "source": [
    "# Create four different user defined functions to check whether the string is a GST Number, PAN Number, Driver's License Number or Adhaar Number. As an example. \n",
    "\n",
    "\n",
    "# A PAN Number looks like this:\n",
    "\n",
    "# ABCDE1234F\n",
    "\n",
    "\n",
    "\n",
    "# A GST Number looks like this:\n",
    "\n",
    "# 12ABCDE3456F7G8\n",
    "\n",
    "\n",
    "\n",
    "# A Driver's Licence Number looks like this:\n",
    "\n",
    "# AB1234561234567\n",
    "\n",
    "\n",
    "# Adhaar Number looks like this:\n",
    "\n",
    "# 123412341234\n",
    "\n",
    "\n",
    "# Each function should return True if the number is PAN, GST, Driver's Licence or Adhaar Number otherwise it should return False\n",
    "\n",
    "# Check each of the four functions by passing a string to each of the functions and look for yourself that whether your function is working fine or not "
   ]
  },
  {
   "cell_type": "code",
   "execution_count": 1,
   "metadata": {},
   "outputs": [],
   "source": [
    "def check_pan(number):\n",
    "    if len(number) == 10:\n",
    "        for i in range(len(number)):\n",
    "            if (i < 5) or (i == 9):\n",
    "                if (ord(number[i].upper()) < 65) or (ord(number[i].upper()) > 90):\n",
    "                    return False\n",
    "            else:\n",
    "                if (ord(number[i]) < 48) or (ord(number[i]) > 57):\n",
    "                    return False\n",
    "        return True\n",
    "    return False"
   ]
  },
  {
   "cell_type": "code",
   "execution_count": 2,
   "metadata": {},
   "outputs": [],
   "source": [
    "def check_gst(number):\n",
    "    if len(number) == 15:\n",
    "        for i in range(len(number)):\n",
    "            if ((i > 1) and (i < 7)) or (i == 11) or (i == 13):\n",
    "                if (ord(number[i].upper()) < 65) or (ord(number[i].upper()) > 90):\n",
    "                    return False\n",
    "            else:\n",
    "                if (ord(number[i]) < 48) or (ord(number[i]) > 57):\n",
    "                    return False\n",
    "        return True\n",
    "    return False"
   ]
  },
  {
   "cell_type": "code",
   "execution_count": 3,
   "metadata": {},
   "outputs": [],
   "source": [
    "def check_dl(number):\n",
    "    if len(number) == 15:\n",
    "        for i in range(len(number)):\n",
    "            if (i < 2):\n",
    "                if (ord(number[i].upper()) < 65) or (ord(number[i].upper()) > 90):\n",
    "                    return False\n",
    "            else:\n",
    "                if (ord(number[i]) < 48) or (ord(number[i]) > 57):\n",
    "                    return False\n",
    "        return True\n",
    "    return False"
   ]
  },
  {
   "cell_type": "code",
   "execution_count": 4,
   "metadata": {},
   "outputs": [],
   "source": [
    "def check_aadhaar(number):\n",
    "    if len(number) == 12:\n",
    "        for i in range(len(number)):\n",
    "            if (ord(number[i]) < 48) or (ord(number[i]) > 57):\n",
    "                return False\n",
    "        return True\n",
    "    return False"
   ]
  },
  {
   "cell_type": "code",
   "execution_count": 5,
   "metadata": {},
   "outputs": [
    {
     "data": {
      "text/plain": [
       "True"
      ]
     },
     "execution_count": 5,
     "metadata": {},
     "output_type": "execute_result"
    }
   ],
   "source": [
    "check_pan('ABCDE1234F')"
   ]
  },
  {
   "cell_type": "code",
   "execution_count": 6,
   "metadata": {},
   "outputs": [
    {
     "data": {
      "text/plain": [
       "True"
      ]
     },
     "execution_count": 6,
     "metadata": {},
     "output_type": "execute_result"
    }
   ],
   "source": [
    "check_gst('12ABCDE3456F7G8')"
   ]
  },
  {
   "cell_type": "code",
   "execution_count": 7,
   "metadata": {},
   "outputs": [
    {
     "data": {
      "text/plain": [
       "True"
      ]
     },
     "execution_count": 7,
     "metadata": {},
     "output_type": "execute_result"
    }
   ],
   "source": [
    "check_dl('AB1234561234567')"
   ]
  },
  {
   "cell_type": "code",
   "execution_count": 8,
   "metadata": {},
   "outputs": [
    {
     "data": {
      "text/plain": [
       "True"
      ]
     },
     "execution_count": 8,
     "metadata": {},
     "output_type": "execute_result"
    }
   ],
   "source": [
    "check_aadhaar('123412341234')"
   ]
  }
 ],
 "metadata": {
  "kernelspec": {
   "display_name": "Python 3",
   "language": "python",
   "name": "python3"
  },
  "language_info": {
   "codemirror_mode": {
    "name": "ipython",
    "version": 3
   },
   "file_extension": ".py",
   "mimetype": "text/x-python",
   "name": "python",
   "nbconvert_exporter": "python",
   "pygments_lexer": "ipython3",
   "version": "3.7.6"
  }
 },
 "nbformat": 4,
 "nbformat_minor": 2
}
