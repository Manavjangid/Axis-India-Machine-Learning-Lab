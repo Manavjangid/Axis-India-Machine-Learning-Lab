{
 "cells": [
  {
   "cell_type": "code",
   "execution_count": 1,
   "metadata": {},
   "outputs": [],
   "source": [
    "import pandas as pd\n",
    "import numpy as np\n",
    "import scipy.stats as s"
   ]
  },
  {
   "cell_type": "code",
   "execution_count": 2,
   "metadata": {},
   "outputs": [],
   "source": [
    "class GaussianNaiveBayes():\n",
    "    def __init__(self,discriminant_analysis_assumption='qda', rda_param=np.nan):\n",
    "        \n",
    "        self.discriminant_analysis_assumption = discriminant_analysis_assumption\n",
    "        self.rda_param = rda_param\n",
    "        \n",
    "        \n",
    "    def fit(self,X_train,Y_train):\n",
    "        X_train = np.array(X_train)\n",
    "        Y_train = np.array(Y_train)\n",
    "        self.unique_class = np.unique(Y_train)\n",
    "        data=pd.DataFrame(X_train)\n",
    "        data['label'] = Y_train\n",
    "        \n",
    "        self.cov_mat = list()\n",
    "        self.mean_vec = list()\n",
    "        self.priors = list()\n",
    "        \n",
    "        for i in self.unique_class:\n",
    "            self.cov_mat.append(np.reshape(np.array(data[data['label'] == i].iloc[:,:-1].cov()), newshape=(X_train.shape[1],-1)))\n",
    "            self.mean_vec.append(np.reshape(np.array(data[data['label'] == i].iloc[:,:-1].mean(axis=0)), newshape=(X_train.shape[1],)))\n",
    "            self.priors.append(data[data['label'] == i].shape[0]/data.shape[0])\n",
    "            \n",
    "        if self.discriminant_analysis_assumption != 'qda':\n",
    "            self.pooled_cov_mat = np.zeros(shape=(X_train.shape[1],X_train.shape[1]))\n",
    "            for i in range(len(self.unique_class)):\n",
    "                self.pooled_cov_mat += (self.cov_mat[i] * (np.count_nonzero(data['label'] == self.unique_class[i]) - 1))\n",
    "            self.pooled_cov_mat /= (data.shape[0] - len(self.unique_class))\n",
    "            if self.discriminant_analysis_assumption == 'rda':\n",
    "                self.rda_cov_mat = list()\n",
    "                for i in range(len(self.unique_class)):\n",
    "                    rda_1 = ((1-self.rda_param[0]) * self.pooled_cov_mat) + (self.rda_param[0] * self.cov_mat[i])\n",
    "                    self.rda_cov_mat.append(((1-self.rda_param[1]) * rda_1) + (self.rda_param[1] * (np.sum(rda_1.diagonal())/(rda_1.shape[1])) * np.eye(X_train.shape[1],X_train.shape[1])))\n",
    "                del self.pooled_cov_mat, rda_1\n",
    "            del self.cov_mat\n",
    "        \n",
    "        del X_train, Y_train, data\n",
    "        \n",
    "        \n",
    "        \n",
    "    def predict(self, X_test):\n",
    "        \n",
    "        self.predicted_labels = []\n",
    "        \n",
    "        if self.discriminant_analysis_assumption == 'rda':\n",
    "            for i in range(len(self.unique_class)):\n",
    "                self.predicted_labels.append(np.reshape(s.multivariate_normal.pdf(np.array(X_test), self.mean_vec[i], self.rda_cov_mat[i]) * self.priors[i], (np.array(X_test).shape[0], -1)))\n",
    "        elif self.discriminant_analysis_assumption == 'lda':\n",
    "            for i in range(len(self.unique_class)):\n",
    "                self.predicted_labels.append(np.reshape(s.multivariate_normal.pdf(np.array(X_test), self.mean_vec[i], self.pooled_cov_mat) * self.priors[i], (np.array(X_test).shape[0], -1)))\n",
    "        else:\n",
    "            for i in range(len(self.unique_class)):\n",
    "                self.predicted_labels.append(np.reshape(s.multivariate_normal.pdf(np.array(X_test), self.mean_vec[i], self.cov_mat[i]) * self.priors[i], (np.array(X_test).shape[0], -1)))\n",
    "        \n",
    "        self.predicted_labels = pd.DataFrame(np.concatenate(self.predicted_labels, axis=1), columns=self.unique_class)\n",
    "        self.predicted_labels = np.array(self.predicted_labels.idxmax(axis=1))\n",
    "        return self.predicted_labels"
   ]
  },
  {
   "cell_type": "code",
   "execution_count": 3,
   "metadata": {},
   "outputs": [
    {
     "name": "stdout",
     "output_type": "stream",
     "text": [
      "1\n"
     ]
    }
   ],
   "source": [
    "if __name__ == \"__main__\":\n",
    "    print(1)"
   ]
  }
 ],
 "metadata": {
  "kernelspec": {
   "display_name": "Python 3.7.6 64-bit",
   "language": "python",
   "name": "python37664bit16fa44404e4941f7996ce5d53eb37087"
  },
  "language_info": {
   "codemirror_mode": {
    "name": "ipython",
    "version": 3
   },
   "file_extension": ".py",
   "mimetype": "text/x-python",
   "name": "python",
   "nbconvert_exporter": "python",
   "pygments_lexer": "ipython3",
   "version": "3.7.6"
  }
 },
 "nbformat": 4,
 "nbformat_minor": 4
}
