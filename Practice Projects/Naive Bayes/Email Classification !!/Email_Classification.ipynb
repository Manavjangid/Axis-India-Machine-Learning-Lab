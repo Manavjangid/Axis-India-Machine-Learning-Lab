{
  "nbformat": 4,
  "nbformat_minor": 0,
  "metadata": {
    "colab": {
      "name": "Email_Classification.ipynb",
      "provenance": [],
      "collapsed_sections": []
    },
    "kernelspec": {
      "display_name": "Python 3",
      "language": "python",
      "name": "python3"
    },
    "language_info": {
      "codemirror_mode": {
        "name": "ipython",
        "version": 3
      },
      "file_extension": ".py",
      "mimetype": "text/x-python",
      "name": "python",
      "nbconvert_exporter": "python",
      "pygments_lexer": "ipython3",
      "version": "3.7.6"
    }
  },
  "cells": [
    {
      "cell_type": "code",
      "metadata": {
        "id": "vJJCnoRle8jq"
      },
      "source": [
        "pip install contractions"
      ],
      "execution_count": null,
      "outputs": []
    },
    {
      "cell_type": "code",
      "metadata": {
        "id": "6aUwkXC41iXg"
      },
      "source": [
        "from google.colab import drive\n",
        "drive.mount('/gdrive')"
      ],
      "execution_count": null,
      "outputs": []
    },
    {
      "cell_type": "code",
      "metadata": {
        "id": "U9GGWf8dUrNB"
      },
      "source": [
        "from google.colab import files\n",
        "\n",
        "uploaded = files.upload()\n",
        "\n",
        "for fn in uploaded.keys():\n",
        "  print('User uploaded file \"{name}\" with length {length} bytes'.format(\n",
        "      name=fn, length=len(uploaded[fn])))"
      ],
      "execution_count": null,
      "outputs": []
    },
    {
      "cell_type": "code",
      "metadata": {
        "id": "OAYPDlRQezmc"
      },
      "source": [
        "import pandas as pd\n",
        "import numpy as np\n",
        "import matplotlib.pyplot as plt\n",
        "from Gaussian_Naive_Bayes import GaussianNaiveBayes\n",
        "from nltk.tokenize import word_tokenize\n",
        "import re\n",
        "import nltk\n",
        "from contractions import contractions_dict\n",
        "from nltk.corpus import stopwords\n",
        "from spacy.lang.en.stop_words import STOP_WORDS\n",
        "from itertools import filterfalse\n",
        "from nltk import pos_tag\n",
        "from nltk.stem import WordNetLemmatizer\n",
        "from nltk.corpus import wordnet\n",
        "from sklearn.feature_extraction.text import TfidfVectorizer\n",
        "from sklearn.decomposition import PCA\n",
        "from sklearn.model_selection import train_test_split\n",
        "import time\n",
        "nltk.download('punkt')\n",
        "nltk.download('stopwords')\n",
        "nltk.download('averaged_perceptron_tagger')\n",
        "nltk.download('wordnet')"
      ],
      "execution_count": null,
      "outputs": []
    },
    {
      "cell_type": "code",
      "metadata": {
        "id": "pR8r5hsDezmf"
      },
      "source": [
        "data = pd.read_csv(\"/gdrive/MyDrive/Colab Notebooks/Email processing/emails.csv\")"
      ],
      "execution_count": null,
      "outputs": []
    },
    {
      "cell_type": "code",
      "metadata": {
        "id": "ixsjbcuj0hU1"
      },
      "source": [
        "def pre_processing(text):\n",
        "    regex = r'^@[a-zA-z0-9]|^#[a-zA-Z0-9]|\\w+:\\/{2}[\\d\\w-]+(\\.[\\d\\w-]+)*(?:(?:\\/[^\\s/]*))*|\\W+|\\d+|<(\"[^\"]*\"|\\'[^\\']*\\'|[^\\'\">])*>|_+|[^\\u0000-\\u007f]+'\n",
        "    en_stop_words = list(set(stopwords.words('english')).union(set(STOP_WORDS)))\n",
        "\n",
        "    #strip titles\n",
        "    if \"Subject: re :\" in text:\n",
        "        text = text[13:]\n",
        "    elif \"Subject: news :\" in text:\n",
        "        text = text[15:]\n",
        "    else:\n",
        "        text = text[8:]\n",
        "\n",
        "    #tokenize using nltk\n",
        "    text = word_tokenize(text)\n",
        "\n",
        "    #normalize tokens\n",
        "    text = [token.lower() for token in text]\n",
        "\n",
        "    #contraction expansion\n",
        "    text = [contractions_dict[token] if token in contractions_dict.keys() else token for token in text]\n",
        "\n",
        "    #remove waste words\n",
        "    l = list()\n",
        "    for token in text:\n",
        "      if not(re.search(regex,token)):\n",
        "        l.append(token)\n",
        "    text = l\n",
        "    del l\n",
        "\n",
        "    #split\n",
        "    text = [re.split(regex,token)[0] for token in text]\n",
        "\n",
        "    #remove stop words\n",
        "    l = list()\n",
        "    for token in text:\n",
        "      if not(token in en_stop_words or re.search(r'\\b\\w\\b|[^\\u0000-\\u007f]+|_+|\\W+',token)):\n",
        "        l.append(token)\n",
        "    text = l\n",
        "    del l\n",
        "\n",
        "    #assigning pos tag to each token\n",
        "    text = pos_tag(text)\n",
        "    text = [(i[0],wordnet.ADJ) if i[1][0] == 'J' else (i[0],wordnet.VERB) if i[1][0] == 'V' else (i[0],wordnet.ADV) if i[1][0] == 'R' else (i[0],wordnet.NOUN) for i in text]\n",
        "\n",
        "    #applying lemmatizer\n",
        "    lemmatizer = WordNetLemmatizer()\n",
        "    if len(text) > 0:\n",
        "      text = ['' if token == None else lemmatizer.lemmatize(word=token[0],pos=token[1]) for token in text]\n",
        "\n",
        "    del regex, en_stop_words, lemmatizer\n",
        "    return text"
      ],
      "execution_count": null,
      "outputs": []
    },
    {
      "cell_type": "code",
      "metadata": {
        "id": "Ia4cIQ7A0Puh"
      },
      "source": [
        "# data preprocessing\n",
        "data['text'] = data['text'].apply(lambda x: pre_processing(x))"
      ],
      "execution_count": null,
      "outputs": []
    },
    {
      "cell_type": "code",
      "metadata": {
        "id": "vk14KGS228ii"
      },
      "source": [
        "data"
      ],
      "execution_count": null,
      "outputs": []
    },
    {
      "cell_type": "code",
      "metadata": {
        "id": "ooqkDqhAWlFE"
      },
      "source": [
        "preprocessed_data = data.copy()\n",
        "\n",
        "vocab = set()\n",
        "for list_of_tokens in preprocessed_data['text']:\n",
        "  vocab = vocab.union(set(list_of_tokens))\n",
        "\n",
        "vocab_dict = dict(zip(vocab,list(range(0,len(vocab)))))\n",
        "\n",
        "preprocessed_data['text'] = preprocessed_data['text'].apply(lambda x: \" \".join(x))\n",
        "\n",
        "corpus = [i for i in preprocessed_data['text']]\n",
        "\n",
        "vectorizer = TfidfVectorizer(vocabulary=vocab_dict)\n",
        "tf_idf_matrix = vectorizer.fit_transform(corpus).toarray()\n",
        "\n",
        "del preprocessed_data, vocab, vocab_dict, corpus, vectorizer\n",
        "\n",
        "print(tf_idf_matrix.shape)"
      ],
      "execution_count": null,
      "outputs": []
    },
    {
      "cell_type": "code",
      "metadata": {
        "id": "VTbyEyRSgbJk"
      },
      "source": [
        "class Email_classification(GaussianNaiveBayes):\n",
        "  def __init__(self, tf_idf_matrix, labels, n_comp, dicriminant_analysis='qda', rda_p=np.nan):\n",
        "\n",
        "    pca = PCA(n_components=n_comp)\n",
        "    self.tf_idf_matrix_reduced = pca.fit_transform(tf_idf_matrix)\n",
        "\n",
        "    self.reduced_data = pd.DataFrame(self.tf_idf_matrix_reduced)\n",
        "    self.reduced_data['spam'] = labels\n",
        "\n",
        "    spam_data = self.reduced_data[self.reduced_data['spam'] == 1]\n",
        "    not_spam_data = self.reduced_data[self.reduced_data['spam'] == 0]\n",
        "\n",
        "    self.training = pd.concat([spam_data.iloc[:(int(self.reduced_data.shape[0]*0.7)//2),:], not_spam_data.iloc[:(int(self.reduced_data.shape[0]*0.7)//2),:]], axis=0)\n",
        "\n",
        "    remaining = pd.concat([spam_data.iloc[(int(self.reduced_data.shape[0]*0.7)//2):,:], not_spam_data.iloc[(int(self.reduced_data.shape[0]*0.7)//2):,:]], axis=0)\n",
        "\n",
        "    X_cv, X_test, Y_cv, Y_test = train_test_split(remaining.iloc[:,:-1], remaining['spam'], test_size=1/3)\n",
        "\n",
        "    self.cv = pd.DataFrame(X_cv)\n",
        "    self.cv['spam'] = Y_cv\n",
        "\n",
        "    self.testing = pd.DataFrame(X_test)\n",
        "    self.testing['spam'] = Y_test\n",
        "\n",
        "    super().__init__(dicriminant_analysis, rda_p)\n",
        "\n",
        "    del X_test, Y_test, X_cv, Y_cv, remaining, n_comp, pca, tf_idf_matrix, labels, dicriminant_analysis, rda_p"
      ],
      "execution_count": null,
      "outputs": []
    },
    {
      "cell_type": "code",
      "metadata": {
        "id": "CNlth33Ebdij"
      },
      "source": [
        "def evaluate(predicted, actual):\n",
        "    TP = np.count_nonzero((predicted == 1) & (actual == 1))\n",
        "    TN = np.count_nonzero((predicted == 0) & (actual == 0))\n",
        "    FP = np.count_nonzero((predicted == 1) & (actual == 0))\n",
        "    FN = np.count_nonzero((predicted == 0) & (actual == 1))\n",
        "    \n",
        "    if (TP + TN + FP + FN) == 0:\n",
        "        accuracy = 0\n",
        "    else:\n",
        "        accuracy = (TP + TN)/(TP + TN + FP + FN)\n",
        "    \n",
        "    if (TP + FP) == 0:\n",
        "        precision = 0\n",
        "    else:\n",
        "        precision = TP/(TP + FP)\n",
        "    \n",
        "    if (TP + FN) == 0:\n",
        "        recall = 0\n",
        "    else:\n",
        "        recall = TP/(TP + FN)\n",
        "        \n",
        "    if (precision + recall) == 0:\n",
        "        f1_score = 0\n",
        "    else:\n",
        "        f1_score = (2 * precision * recall)/(precision + recall)\n",
        "    \n",
        "    return (accuracy, precision, recall, f1_score)"
      ],
      "execution_count": null,
      "outputs": []
    },
    {
      "cell_type": "code",
      "metadata": {
        "id": "CwZya4Twb4NQ"
      },
      "source": [
        "Results = dict()\n",
        "best = {'Accuracy':0, 'Precision':0, 'Recall':0, 'F1 Score':0, 'Best Obj':'obj', 'Parameter':()}"
      ],
      "execution_count": null,
      "outputs": []
    },
    {
      "cell_type": "markdown",
      "metadata": {
        "id": "apdEm6gccF2W"
      },
      "source": [
        "# We will check for various values of N Components in PCA for assumption of Quadratic Discriminant Analysis"
      ]
    },
    {
      "cell_type": "code",
      "metadata": {
        "id": "gwE5UmUzciLX"
      },
      "source": [
        "for n_comp in np.arange(2,1241,20):\n",
        "    obj = Email_classification(tf_idf_matrix, data['spam'], n_comp)\n",
        "    obj.fit(obj.training.iloc[:,:-1], obj.training['spam'])\n",
        "    obj.predict(obj.cv.iloc[:,:-1])\n",
        "    Results[('qda', n_comp)] = evaluate(obj.predicted_labels, obj.cv['spam'])\n",
        "    if Results[('qda', n_comp)][0] > best['Accuracy']:\n",
        "        best['Accuracy'] = Results[('qda', n_comp)][0]\n",
        "        best['Precision'] = Results[('qda', n_comp)][1]\n",
        "        best['Recall'] = Results[('qda', n_comp)][2]\n",
        "        best['F1 Score'] = Results[('qda', n_comp)][3]\n",
        "        best['Best Obj'] = obj\n",
        "        best['Parameter'] = ('qda', n_comp)\n",
        "    else:\n",
        "        del obj"
      ],
      "execution_count": null,
      "outputs": []
    },
    {
      "cell_type": "code",
      "metadata": {
        "id": "kJyuIQTwdTsH"
      },
      "source": [
        "best"
      ],
      "execution_count": null,
      "outputs": []
    },
    {
      "cell_type": "markdown",
      "metadata": {
        "id": "UmGxvjhAdV-N"
      },
      "source": [
        "# We will check for various values of N Components in PCA for assumption of Linear Discriminant Analysis"
      ]
    },
    {
      "cell_type": "code",
      "metadata": {
        "id": "qela03OVifbf"
      },
      "source": [
        "for n_comp in np.arange(2,1241):\n",
        "    obj = Email_classification(tf_idf_matrix, data['spam'], n_comp, discriminant_analysis='lda')\n",
        "    obj.fit(obj.training.iloc[:,:-1], obj.training['spam'])\n",
        "    obj.predict(obj.cv.iloc[:,:-1])\n",
        "    Results[('lda', n_comp)] = evaluate(obj.predicted_labels, obj.cv['spam'])\n",
        "    if Results[('lda', n_comp)][0] > best['Accuracy']:\n",
        "        best['Accuracy'] = Results[('lda', n_comp)][0]\n",
        "        best['Precision'] = Results[('lda', n_comp)][1]\n",
        "        best['Recall'] = Results[('lda', n_comp)][2]\n",
        "        best['F1 Score'] = Results[('lda', n_comp)][3]\n",
        "        best['Best Obj'] = obj\n",
        "        best['Parameter'] = ('lda', n_comp)\n",
        "    else:\n",
        "        del obj"
      ],
      "execution_count": null,
      "outputs": []
    },
    {
      "cell_type": "code",
      "metadata": {
        "id": "dtvr4Dhci4iQ"
      },
      "source": [
        "best"
      ],
      "execution_count": null,
      "outputs": []
    },
    {
      "cell_type": "markdown",
      "metadata": {
        "id": "UAFe6QbRjQn0"
      },
      "source": [
        "# We will check for various values of N Components in PCA for assumption of Regularized Discriminant Analysis"
      ]
    },
    {
      "cell_type": "code",
      "metadata": {
        "id": "DAPihN6ni71L"
      },
      "source": [
        "for alpha in np.arange(0.1,1,0.1):\n",
        "    for gamma in np.arange(0.1,1,0.1):\n",
        "        for n_comp in np.arange(2,1241,20): \n",
        "            obj = Email_classification(tf_idf_matrix, data['spam'], n_comp, discriminant_analysis='lda', rda_p=(alpha, gamma))\n",
        "            obj.fit(obj.training.iloc[:,:-1], obj.training['spam'])\n",
        "            obj.predict(obj.cv.iloc[:,:-1])\n",
        "            Results[('rda', n_comp, alpha, gamma)] = evaluate(obj.predicted_labels, obj.cv['labels'])\n",
        "            if Results[('rda', n_comp, alpha, gamma)][0] > best['Accuracy']:\n",
        "                best['Accuracy'] = Results[('rda', n_comp, alpha, gamma)][0]\n",
        "                best['Precision'] = Results[('rda', n_comp, alpha, gamma)][1]\n",
        "                best['Recall'] = Results[('rda', n_comp, alpha, gamma)][2]\n",
        "                best['F1 Score'] = Results[('rda', n_comp, alpha, gamma)][3]\n",
        "                best['Best Obj'] = obj\n",
        "                best['Parameter'] = ('rda', n_comp, alpha, gamma)\n",
        "            else:\n",
        "                del obj"
      ],
      "execution_count": null,
      "outputs": []
    },
    {
      "cell_type": "code",
      "metadata": {
        "id": "7Ml6NKw5j9RB"
      },
      "source": [
        "best"
      ],
      "execution_count": null,
      "outputs": []
    },
    {
      "cell_type": "markdown",
      "metadata": {
        "id": "od2GdZBfkBZ0"
      },
      "source": [
        "# From over ----- Hyperparameter combinaitons we find our best model"
      ]
    },
    {
      "cell_type": "code",
      "metadata": {
        "id": "ddGLGWd4hqFr"
      },
      "source": [
        "best"
      ],
      "execution_count": null,
      "outputs": []
    },
    {
      "cell_type": "code",
      "metadata": {
        "id": "EZpjsOqixtVL"
      },
      "source": [
        "best_obj = best['Best obj']"
      ],
      "execution_count": null,
      "outputs": []
    },
    {
      "cell_type": "code",
      "metadata": {
        "id": "O10KKbgQykGR"
      },
      "source": [
        "best_obj.fit(best_obj.testing)"
      ],
      "execution_count": null,
      "outputs": []
    },
    {
      "cell_type": "code",
      "metadata": {
        "id": "C48im5RHy4Gn"
      },
      "source": [
        "print(evaluate(best_obj.predicted_labels, best_obj.testing['spam']))"
      ],
      "execution_count": null,
      "outputs": []
    }
  ]
}