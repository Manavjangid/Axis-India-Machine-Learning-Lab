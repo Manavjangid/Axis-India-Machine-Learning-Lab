{
 "cells": [
  {
   "cell_type": "code",
   "execution_count": null,
   "metadata": {},
   "outputs": [],
   "source": [
    "import numpy as np\n",
    "import pandas as pd\n",
    "from Gaussian_Naive_Bayes import GaussianNaiveBayes\n",
    "from imblearn.over_sampling import SMOTE\n",
    "from sklearn.model_selection import train_test_split\n",
    "from sklearn.decomposition import PCA\n",
    "from sklearn.impute import SimpleImputer"
   ]
  },
  {
   "cell_type": "code",
   "execution_count": null,
   "metadata": {},
   "outputs": [],
   "source": [
    "training_data = pd.read_csv('aps_failure_training_set.csv', skiprows=20)\n",
    "testing_data = pd.read_csv('aps_failure_test_set.csv', skiprows=20)"
   ]
  },
  {
   "cell_type": "code",
   "execution_count": null,
   "metadata": {},
   "outputs": [],
   "source": [
    "class Scania_APS_Failure(GaussianNaiveBayes):\n",
    "    def __init__(self,training, testing, n_comp, non_na_thresh, discriminant_analysis='qda', rda_p=np.nan):\n",
    "        \n",
    "        self.n_comp = n_comp\n",
    "        self.training = training.copy()\n",
    "        self.testing = testing.copy()\n",
    "        \n",
    "        self.training.replace(to_replace='na', value=np.nan, inplace=True)\n",
    "        self.testing.replace(to_replace='na', value=np.nan, inplace=True)\n",
    "        \n",
    "        self.training.dropna(axis=1, thresh=int(non_na_thresh*self.training.shape[0]), inplace=True)\n",
    "        self.testing = self.testing[self.training.columns]\n",
    "        \n",
    "        training_label = self.training['class']\n",
    "        testing_label = self.testing['class']\n",
    "        \n",
    "        imputer = SimpleImputer()\n",
    "        imputed_training = imputer.fit_transform(self.training.iloc[:,1:])\n",
    "        imputed_testing = imputer.fit_transform(self.testing.iloc[:,1:])\n",
    "        \n",
    "        self.training = pd.DataFrame(imputed_training, columns=self.training.columns[1:])\n",
    "        self.testing = pd.DataFrame(imputed_testing, columns=self.testing.columns[1:])\n",
    "        \n",
    "        for column in self.training:\n",
    "            self.training[column] = pd.qcut(x=self.training[column], q=10, duplicates='drop').cat.codes\n",
    "            self.testing[column] = pd.qcut(x=self.testing[column], q=10, duplicates='drop').cat.codes\n",
    "        \n",
    "        self.training = self.__one_hot_encoding(self.training)\n",
    "        self.testing = self.__one_hot_encoding(self.testing)\n",
    "        self.testing['ad_000_8'] = np.array([0 for i in range(self.testing.shape[0])])\n",
    "        \n",
    "        self.training = (self.training - self.training.mean(axis=0))/self.training.std(axis=0)\n",
    "        self.testing = (self.testing - self.testing.mean(axis=0))/self.testing.std(axis=0)\n",
    "        \n",
    "        self.training.dropna(axis=1, thresh=int(non_na_thresh*self.training.shape[0]), inplace=True)\n",
    "        self.testing = self.testing[self.training.columns]\n",
    "        \n",
    "        self.__eigen_vector_calculation()\n",
    "        \n",
    "        self.training = np.matmul(np.array(self.training),self.Q)\n",
    "        self.testing = np.matmul(np.array(self.testing),self.Q)\n",
    "        \n",
    "        self.training, training_label = SMOTE(sampling_strategy='minority').fit_resample(X=self.training, y=training_label)\n",
    "        self.training = pd.DataFrame(self.training)\n",
    "        self.training['class'] = training_label\n",
    "        \n",
    "        self.testing = pd.DataFrame(self.testing)\n",
    "        self.testing['class'] = testing_label\n",
    "        self.testing['class'].dropna(axis=0, inplace=True)\n",
    "        \n",
    "        X_cv, X_test, Y_cv, Y_test = train_test_split(self.testing.iloc[:,:-1], self.testing['class'], test_size=1/3)\n",
    "        \n",
    "        self.cv = pd.DataFrame(X_cv)\n",
    "        self.cv['class'] = Y_cv\n",
    "        \n",
    "        self.testing = pd.DataFrame(X_test)\n",
    "        self.testing['class'] = Y_test\n",
    "        \n",
    "        super().__init__(discriminant_analysis,rda_p)\n",
    "        \n",
    "        del X_cv, X_test, Y_cv, Y_test, column, discriminant_analysis, imputed_testing, imputed_training, imputer, n_comp, non_na_thresh, rda_p, testing_label, training_label\n",
    "        \n",
    "        \n",
    "    def __eigen_vector_calculation(self):\n",
    "        data = np.array(self.training)\n",
    "        sigma_hat = (1/self.training.shape[0]) * np.matmul(data.T,data)\n",
    "        self.Q = np.linalg.svd(sigma_hat)[0][:,:self.n_comp]\n",
    "        \n",
    "    def __one_hot_encoding(self, df):\n",
    "        data_array = list()\n",
    "        column_name = list()\n",
    "        for column in df.columns:\n",
    "            unique = df[column].unique()\n",
    "            size = len(df[column].unique())\n",
    "            df[column].replace(to_replace=unique, value=range(size), inplace=True)\n",
    "            data_array.append(np.eye(size, size)[df[column]])\n",
    "            for u in unique:\n",
    "                column_name.append(column + '_' + str(u))\n",
    "        return pd.DataFrame(np.concatenate(data_array, axis=1), columns=column_name)"
   ]
  },
  {
   "cell_type": "code",
   "execution_count": null,
   "metadata": {},
   "outputs": [],
   "source": [
    "def evaluate(predicted, actual):\n",
    "    TP = np.count_nonzero((predicted == 'pos') & (actual == 'pos'))\n",
    "    TN = np.count_nonzero((predicted == 'neg') & (actual == 'neg'))\n",
    "    FP = np.count_nonzero((predicted == 'pos') & (actual == 'neg'))\n",
    "    FN = np.count_nonzero((predicted == 'neg') & (actual == 'pos'))\n",
    "    \n",
    "    if (TP + TN + FP + FN) == 0:\n",
    "        accuracy = 0\n",
    "    else:\n",
    "        accuracy = (TP + TN)/(TP + TN + FP + FN)\n",
    "    \n",
    "    if (TP + FP) == 0:\n",
    "        precision = 0\n",
    "    else:\n",
    "        precision = TP/(TP + FP)\n",
    "    \n",
    "    if (TP + FN) == 0:\n",
    "        recall = 0\n",
    "    else:\n",
    "        recall = TP/(TP + FN)\n",
    "        \n",
    "    if (precision + recall) == 0:\n",
    "        f1_score = 0\n",
    "    else:\n",
    "        f1_score = (2 * precision * recall)/(precision + recall)\n",
    "    \n",
    "    return (accuracy, precision, recall, f1_score)"
   ]
  },
  {
   "cell_type": "code",
   "execution_count": null,
   "metadata": {},
   "outputs": [],
   "source": [
    "Results = dict()\n",
    "best = {'Accuracy':0, 'Precision':0, 'Recall':0, 'F1 Score':0, 'Best Obj':'obj', 'Parameter':()}"
   ]
  },
  {
   "cell_type": "markdown",
   "metadata": {},
   "source": [
    "# We will check for various values of N Components in PCA for assumption of Quadratic Discriminant Analysis"
   ]
  },
  {
   "cell_type": "code",
   "execution_count": null,
   "metadata": {},
   "outputs": [],
   "source": [
    "for non_na_thresh in np.arange(0.50, 0.96, 0.05): \n",
    "    for n_comp in range(2,537,19):\n",
    "        obj = Scania_APS_Failure(training_data, testing_data, n_comp, non_na_thresh)\n",
    "        obj.fit(obj.training.iloc[:,:-1],obj.training['class'])\n",
    "        obj.predict(obj.cv.iloc[:,:-1])\n",
    "        Results[('qda', non_na_thresh, n_comp)] = evaluate(obj.predicted_labels, obj.cv['class'])\n",
    "        if (Results[('qda',  non_na_thresh, n_comp)][0] + Results[('qda',  non_na_thresh, n_comp)][1] + Results[('qda',  non_na_thresh, n_comp)][2]) > (best['Accuracy'] + best['Precision'] + best['Recall']):\n",
    "            best['Accuracy'] = Results[('qda',  non_na_thresh, n_comp)][0]\n",
    "            best['Precision'] = Results[('qda',  non_na_thresh, n_comp)][1]\n",
    "            best['Recall'] = Results[('qda',  non_na_thresh, n_comp)][2]\n",
    "            best['F1 Score'] = Results[('qda',  non_na_thresh, n_comp)][3]\n",
    "            best['Best Obj'] = obj\n",
    "            best['Parameter'] = ('qda',  non_na_thresh, n_comp)\n",
    "        else:\n",
    "            del obj"
   ]
  },
  {
   "cell_type": "code",
   "execution_count": null,
   "metadata": {},
   "outputs": [],
   "source": [
    "best"
   ]
  },
  {
   "cell_type": "markdown",
   "metadata": {},
   "source": [
    "# We will check for various values of N Components in PCA for assumption of Linear Discriminant Analysis"
   ]
  },
  {
   "cell_type": "code",
   "execution_count": null,
   "metadata": {},
   "outputs": [],
   "source": [
    "for non_na_thresh in np.arange(0.50, 0.96, 0.05): \n",
    "    for n_comp in np.arange(2,766,14):\n",
    "        obj = Scania_APS_Failure(training_data, testing_data, n_comp, non_na_thresh,discriminant_analysis='lda')\n",
    "        obj.fit(obj.training.iloc[:,:-1],obj.training['class'])\n",
    "        obj.predict(obj.cv.iloc[:,:-1])\n",
    "        Results[('lda', non_na_thresh, n_comp)] = evaluate(obj.predicted_labels, obj.cv['class'])\n",
    "        if (Results[('lda',  non_na_thresh, n_comp)][0] + Results[('lda',  non_na_thresh, n_comp)][1] + Results[('lda',  non_na_thresh, n_comp)][2]) > (best['Accuracy'] + best['Precision'] + best['Recall']):\n",
    "            best['Accuracy'] = Results[('lda',  non_na_thresh, n_comp)][0]\n",
    "            best['Precision'] = Results[('lda',  non_na_thresh, n_comp)][1]\n",
    "            best['Recall'] = Results[('lda',  non_na_thresh, n_comp)][2]\n",
    "            best['F1 Score'] = Results[('lda',  non_na_thresh, n_comp)][3]\n",
    "            best['Best Obj'] = obj\n",
    "            best['Parameter'] = ('lda',  non_na_thresh, n_comp)\n",
    "        else:\n",
    "            del obj"
   ]
  },
  {
   "cell_type": "code",
   "execution_count": null,
   "metadata": {},
   "outputs": [],
   "source": [
    "best"
   ]
  },
  {
   "cell_type": "markdown",
   "metadata": {},
   "source": [
    "# We will check for various values of N Components in PCA for assumption of Regularized Discriminant Analysis"
   ]
  },
  {
   "cell_type": "code",
   "execution_count": null,
   "metadata": {},
   "outputs": [],
   "source": [
    "for non_na_thresh in np.arange(0.50, 0.96, 0.05):\n",
    "    for alpha in np.arange(0.1,1,0.1):\n",
    "        for gamma in np.arange(0.1,1,0.1):\n",
    "            for n_comp in range(2,537,19): \n",
    "                obj = Scania_APS_Failure(training_data, testing_data, n_comp, non_na_thresh, 'rda', (alpha, gamma))\n",
    "                obj.fit(obj.training.iloc[:,:-1],obj.training['class'])\n",
    "                obj.predict(obj.cv.iloc[:,:-1])\n",
    "                Results[('rda', n_comp, non_na_thresh, alpha, gamma)] = evaluate(obj.predicted_labels, obj.cv['class'])\n",
    "                if (Results[('rda', n_comp, non_na_thresh, alpha, gamma)][0] + Results[('rda', n_comp, non_na_thresh, alpha, gamma)][1] + Results[('rda', n_comp, non_na_thresh, alpha, gamma)][2]) > (best['Accuracy'] + best['Precision'] + best['Recall']):\n",
    "                    best['Accuracy'] = Results[('rda', n_comp, non_na_thresh, alpha, gamma)][0]\n",
    "                    best['Precision'] = Results[('rda', n_comp, non_na_thresh, alpha, gamma)][1]\n",
    "                    best['Recall'] = Results[('rda', n_comp, non_na_thresh, alpha, gamma)][2]\n",
    "                    best['F1 Score'] = Results[('rda', n_comp, non_na_thresh, alpha, gamma)][3]\n",
    "                    best['Best Obj'] = obj\n",
    "                    best['Parameter'] = ('rda', n_comp, non_na_thresh, alpha, gamma)\n",
    "                else:\n",
    "                    del obj"
   ]
  },
  {
   "cell_type": "code",
   "execution_count": null,
   "metadata": {},
   "outputs": [],
   "source": [
    "best"
   ]
  },
  {
   "cell_type": "markdown",
   "metadata": {},
   "source": [
    "# From over {(29 * 10) + (55 * 10) + (10 * 9 * 9 *29)} = 24330 Hyperparameter combinaitons we find our best model"
   ]
  },
  {
   "cell_type": "code",
   "execution_count": null,
   "metadata": {},
   "outputs": [],
   "source": [
    "best_obj = best['Best Obj']"
   ]
  },
  {
   "cell_type": "code",
   "execution_count": null,
   "metadata": {},
   "outputs": [],
   "source": [
    "best_obj.predict(best_obj.testing.iloc[:,:-1])"
   ]
  },
  {
   "cell_type": "code",
   "execution_count": null,
   "metadata": {},
   "outputs": [],
   "source": [
    "evaluate(best_obj.predicted_labels, best_obj.testing['diagnosis'])"
   ]
  }
 ],
 "metadata": {
  "kernelspec": {
   "display_name": "Python 3.7.6 64-bit",
   "language": "python",
   "name": "python37664bit16fa44404e4941f7996ce5d53eb37087"
  },
  "language_info": {
   "codemirror_mode": {
    "name": "ipython",
    "version": 3
   },
   "file_extension": ".py",
   "mimetype": "text/x-python",
   "name": "python",
   "nbconvert_exporter": "python",
   "pygments_lexer": "ipython3",
   "version": "3.7.6"
  }
 },
 "nbformat": 4,
 "nbformat_minor": 4
}
