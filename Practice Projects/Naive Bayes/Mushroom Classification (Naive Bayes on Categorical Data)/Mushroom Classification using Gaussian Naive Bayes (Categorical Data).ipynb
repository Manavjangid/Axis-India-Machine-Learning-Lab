{
 "cells": [
  {
   "cell_type": "markdown",
   "metadata": {},
   "source": [
    "# In this we will apply Naive Bayes to Categorical Data"
   ]
  },
  {
   "cell_type": "code",
   "execution_count": 1,
   "metadata": {},
   "outputs": [],
   "source": [
    "import numpy as np\n",
    "import pandas as pd\n",
    "from Gaussian_Naive_Bayes import GaussianNaiveBayes\n",
    "from sklearn.model_selection import train_test_split\n",
    "from sklearn.decomposition import PCA"
   ]
  },
  {
   "cell_type": "code",
   "execution_count": 2,
   "metadata": {},
   "outputs": [],
   "source": [
    "data = pd.read_csv('mushrooms.csv')"
   ]
  },
  {
   "cell_type": "code",
   "execution_count": 3,
   "metadata": {},
   "outputs": [
    {
     "name": "stdout",
     "output_type": "stream",
     "text": [
      "5686 1624 814\n"
     ]
    }
   ],
   "source": [
    "training_data_len = int(0.7*data.shape[0])\n",
    "cv_data_len = int(0.2*data.shape[0])\n",
    "testing_data_len = data.shape[0] - (training_data_len + cv_data_len)\n",
    "print(training_data_len, cv_data_len, testing_data_len)"
   ]
  },
  {
   "cell_type": "code",
   "execution_count": 4,
   "metadata": {},
   "outputs": [],
   "source": [
    "data_p = data[data['class'] == 'p']\n",
    "data_e = data[data['class'] == 'e']\n",
    "\n",
    "training_data = pd.concat([data_e.iloc[:training_data_len//2,:],data_p.iloc[:training_data_len//2,:]],axis=0)\n",
    "\n",
    "remaining_data = pd.concat([data_e.iloc[training_data_len//2:,:],data_p.iloc[training_data_len//2:,:]],axis=0)\n",
    "\n",
    "X_cv, X_test, Y_cv, Y_test = train_test_split(remaining_data.iloc[:,1:], remaining_data['class'], test_size=1/3)\n",
    "\n",
    "cv_data = pd.DataFrame(X_cv, columns=data.columns[1:])\n",
    "cv_data['class'] = Y_cv\n",
    "\n",
    "testing_data = pd.DataFrame(X_test, columns=data.columns[1:])\n",
    "testing_data['class'] = Y_test\n",
    "\n",
    "del data_e, data_p, training_data_len, cv_data_len, testing_data_len, remaining_data, X_cv, X_test, Y_cv, Y_test"
   ]
  },
  {
   "cell_type": "code",
   "execution_count": 5,
   "metadata": {},
   "outputs": [],
   "source": [
    "def fit(features, label):\n",
    "    unique_in_columns = {}\n",
    "    probabilities = {}\n",
    "    prior = {}\n",
    "    unique = label.unique()\n",
    "    \n",
    "    for categories in unique:\n",
    "        df = features[label == categories]\n",
    "        probabilities[categories] = {'Size': df.shape[0], 'prior':df.shape[0]/features.shape[0]}\n",
    "        unique_in_columns[categories] = {}\n",
    "        \n",
    "        for column_name in df.columns:\n",
    "            unique_in_columns[categories][column_name] = len(features[column_name].unique())\n",
    "            probabilities[categories][column_name] = {}\n",
    "            unique_values_column = df[column_name].unique()\n",
    "            \n",
    "            for value in unique_values_column:\n",
    "                probabilities[categories][column_name][value] = df[df[column_name] == value].shape[0]/df.shape[0]\n",
    "                \n",
    "    \n",
    "    return unique_in_columns, probabilities, prior, unique"
   ]
  },
  {
   "cell_type": "code",
   "execution_count": 6,
   "metadata": {},
   "outputs": [],
   "source": [
    "def lidstone_smoothing(category_size,gamma,unique_count):\n",
    "    return gamma/(category_size + (gamma * unique_count))"
   ]
  },
  {
   "cell_type": "code",
   "execution_count": 7,
   "metadata": {},
   "outputs": [],
   "source": [
    "u, p, prior, unique_lables = fit(training_data.iloc[:,1:], training_data['class'])"
   ]
  },
  {
   "cell_type": "code",
   "execution_count": 8,
   "metadata": {},
   "outputs": [],
   "source": [
    "def predict(features):\n",
    "    predicted = []\n",
    "    for category in unique_lables:\n",
    "        l = []\n",
    "        for row in range(features.shape[0]):\n",
    "            posterior = 1\n",
    "            for column in features:\n",
    "                try:\n",
    "                    posterior *= p[category][column][features.iloc[row,:][column]]\n",
    "                except KeyError:\n",
    "                    posterior *= lidstone_smoothing(p[category]['Size'],0.1,u[category][column])\n",
    "            l.append(posterior)\n",
    "        predicted.append(l)\n",
    "    predicted = np.reshape(np.array(predicted), (len(predicted[0]), -1))\n",
    "    predicted = pd.DataFrame(np.concatenate([predicted], axis=1), columns=unique_lables)\n",
    "    return np.array(predicted.idxmax(axis=1))"
   ]
  },
  {
   "cell_type": "code",
   "execution_count": 9,
   "metadata": {},
   "outputs": [],
   "source": [
    "p = predict(cv_data.iloc[:,:-1])"
   ]
  },
  {
   "cell_type": "code",
   "execution_count": 10,
   "metadata": {},
   "outputs": [],
   "source": [
    "accuracy = np.count_nonzero(p == cv_data['class'])/cv_data.shape[0]"
   ]
  },
  {
   "cell_type": "code",
   "execution_count": 11,
   "metadata": {},
   "outputs": [
    {
     "data": {
      "text/plain": [
       "0.49046153846153845"
      ]
     },
     "execution_count": 11,
     "metadata": {},
     "output_type": "execute_result"
    }
   ],
   "source": [
    "accuracy"
   ]
  }
 ],
 "metadata": {
  "kernelspec": {
   "display_name": "Python 3.7.6 64-bit",
   "language": "python",
   "name": "python37664bit16fa44404e4941f7996ce5d53eb37087"
  },
  "language_info": {
   "codemirror_mode": {
    "name": "ipython",
    "version": 3
   },
   "file_extension": ".py",
   "mimetype": "text/x-python",
   "name": "python",
   "nbconvert_exporter": "python",
   "pygments_lexer": "ipython3",
   "version": "3.7.6"
  }
 },
 "nbformat": 4,
 "nbformat_minor": 4
}
