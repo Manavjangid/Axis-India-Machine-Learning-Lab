{
 "cells": [
  {
   "cell_type": "code",
   "execution_count": null,
   "metadata": {},
   "outputs": [],
   "source": [
    "import numpy as np\n",
    "import pandas as pd\n",
    "import os\n",
    "from Gaussian_Naive_Bayes import GaussianNaiveBayes\n",
    "import matplotlib.pyplot as plt\n",
    "from sklearn.model_selection import train_test_split"
   ]
  },
  {
   "cell_type": "code",
   "execution_count": null,
   "metadata": {},
   "outputs": [],
   "source": [
    "train_path = \".\\DevanagariHandwrittenCharacterDataset\\Train\"\n",
    "\n",
    "test_path = \".\\DevanagariHandwrittenCharacterDataset\\Test\""
   ]
  },
  {
   "cell_type": "code",
   "execution_count": null,
   "metadata": {},
   "outputs": [],
   "source": [
    "def data(path):\n",
    "    df = list()\n",
    "    labels = list()\n",
    "    for image_folder in [os.path.join(path, folder_name) for folder_name in os.listdir(path)]:\n",
    "        for image_path in [os.path.join(image_folder, image) for image in os.listdir(image_folder)]:\n",
    "            labels.append(image_folder.split('\\\\')[-1])\n",
    "            image = plt.imread(image_path)\n",
    "            df.append(np.reshape(image, (1,image.shape[0] * image.shape[1])))\n",
    "    df = np.concatenate(df,axis=0)\n",
    "    df = pd.DataFrame(df)\n",
    "    df['labels'] = labels\n",
    "    return df"
   ]
  },
  {
   "cell_type": "code",
   "execution_count": null,
   "metadata": {},
   "outputs": [],
   "source": [
    "train_data = data(train_path)\n",
    "test_data = data(test_path)"
   ]
  },
  {
   "cell_type": "code",
   "execution_count": null,
   "metadata": {},
   "outputs": [],
   "source": [
    "class DevanagariHandwrittenCharacter(GaussianNaiveBayes):\n",
    "    def __init__(self, training, testing, n_comp, discriminant_analysis='qda', rda_p=np.nan):\n",
    "        \n",
    "        self.training = training.iloc[:,:-1]\n",
    "        training_labels = training['labels']\n",
    "        self.testing = testing.iloc[:,:-1]\n",
    "        testing_labels = testing['labels']\n",
    "        self.n_comp = n_comp\n",
    "        \n",
    "        self.training = (self.training - self.training.mean(axis=0))/self.training.std(axis=0)\n",
    "        self.testing = (self.testing - self.testing.mean(axis=0))/self.testing.std(axis=0)\n",
    "        \n",
    "        self.training.replace(to_replace=np.nan, value=0, inplace=True)\n",
    "        self.testing.replace(to_replace=np.nan, value=0, inplace=True)\n",
    "        \n",
    "        self.__eigen_vector_calculation()\n",
    "        \n",
    "        self.training = np.matmul(np.array(self.training),self.Q)\n",
    "        self.testing = np.matmul(np.array(self.testing),self.Q)\n",
    "        \n",
    "        self.training = pd.DataFrame(self.training)\n",
    "        self.training['labels'] = training_labels\n",
    "        \n",
    "        self.testing = pd.DataFrame(self.testing)\n",
    "        self.testing['labels'] = testing_labels\n",
    "        \n",
    "        X_cv, X_test, Y_cv, Y_test = train_test_split(self.testing.iloc[:,:-1], self.testing['labels'], test_size=1/3)\n",
    "        \n",
    "        self.cv = pd.DataFrame(X_cv)\n",
    "        self.cv['labels'] = Y_cv\n",
    "        \n",
    "        self.testing = pd.DataFrame(X_test)\n",
    "        self.testing['labels'] = Y_test\n",
    "        \n",
    "        super().__init__(discriminant_analysis, rda_p)\n",
    "        \n",
    "        del training, testing, n_comp, discriminant_analysis, rda_p, training_labels, testing_labels, X_cv, X_test, Y_cv, Y_test\n",
    "        \n",
    "    def __eigen_vector_calculation(self):\n",
    "        data = np.array(self.training)\n",
    "        print\n",
    "        sigma_hat = (1/self.training.shape[0]) * np.matmul(data.T,data)\n",
    "        self.Q = np.linalg.svd(sigma_hat)[0][:,:self.n_comp]"
   ]
  },
  {
   "cell_type": "code",
   "execution_count": null,
   "metadata": {},
   "outputs": [],
   "source": [
    "def evaluate(predicted, actual):\n",
    "    return np.count_nonzero(predicted == actual)/len(actual)"
   ]
  },
  {
   "cell_type": "code",
   "execution_count": null,
   "metadata": {},
   "outputs": [],
   "source": [
    "Results = dict()\n",
    "best = {'Accuracy':0, 'Best Obj':'obj', 'Parameter':()}"
   ]
  },
  {
   "cell_type": "markdown",
   "metadata": {},
   "source": [
    "# We will check for various values of N Components in PCA for assumption of Quadratic Discriminant Analysis"
   ]
  },
  {
   "cell_type": "code",
   "execution_count": null,
   "metadata": {},
   "outputs": [],
   "source": [
    "for n_comp in np.arange(2,603,10):\n",
    "    obj = DevanagariHandwrittenCharacter(train_data, test_data, n_comp)\n",
    "    obj.fit(obj.training.iloc[:,:-1], obj.training['labels'])\n",
    "    obj.predict(obj.cv.iloc[:,:-1])\n",
    "    Results[('qda', n_comp)] = evaluate(obj.predicted_labels, obj.cv['labels'])\n",
    "    if Results[('qda', n_comp)] > best['Accuracy']:\n",
    "        best['Accuracy'] = Results[('qda', n_comp)]\n",
    "        best['Best Obj'] = obj\n",
    "        best['Parameter'] = ('qda', n_comp)\n",
    "    else:\n",
    "        del obj"
   ]
  },
  {
   "cell_type": "code",
   "execution_count": null,
   "metadata": {},
   "outputs": [],
   "source": [
    "best"
   ]
  },
  {
   "cell_type": "markdown",
   "metadata": {},
   "source": [
    "# We will check for various values of N Components in PCA for assumption of Linear Discriminant Analysis"
   ]
  },
  {
   "cell_type": "code",
   "execution_count": null,
   "metadata": {},
   "outputs": [],
   "source": [
    "for n_comp in np.arange(2,603,10):\n",
    "    obj = DevanagariHandwrittenCharacter(train_data, test_data, n_comp, discriminant_analysis='lda')\n",
    "    obj.fit(obj.training.iloc[:,:-1], obj.training['labels'])\n",
    "    obj.predict(obj.cv.iloc[:,:-1])\n",
    "    Results[('lda', n_comp)] = evaluate(obj.predicted_labels, obj.cv['labels'])\n",
    "    if Results[('lda', n_comp)] > best['Accuracy']:\n",
    "        best['Accuracy'] = Results[('lda', n_comp)]\n",
    "        best['Best Obj'] = obj\n",
    "        best['Parameter'] = ('lda', n_comp)\n",
    "    else:\n",
    "        del obj"
   ]
  },
  {
   "cell_type": "code",
   "execution_count": null,
   "metadata": {},
   "outputs": [],
   "source": [
    "best"
   ]
  },
  {
   "cell_type": "markdown",
   "metadata": {},
   "source": [
    "# We will check for various values of N Components in PCA for assumption of Regularized Discriminant Analysis"
   ]
  },
  {
   "cell_type": "code",
   "execution_count": null,
   "metadata": {},
   "outputs": [],
   "source": [
    "for alpha in np.arange(0.1,1,0.1):\n",
    "    for gamma in np.arange(0.1,1,0.1):\n",
    "        for n_comp in np.arange(2,602,10): \n",
    "            obj = DevanagariHandwrittenCharacter(train_data, test_data, n_comp, discriminant_analysis='rda', rda_p=(alpha, gamma))\n",
    "            obj.fit(obj.training.iloc[:,:-1],obj.training['labels'])\n",
    "            obj.predict(obj.cv.iloc[:,:-1])\n",
    "            Results[('rda', n_comp, alpha, gamma)] = evaluate(obj.predicted_labels, obj.cv['labels'])\n",
    "            if Results[('rda', n_comp, alpha, gamma)] > best['Accuracy']:\n",
    "                best['Accuracy'] = Results[('rda', n_comp, alpha, gamma)]\n",
    "                best['Best Obj'] = obj\n",
    "                best['Parameter'] = ('rda', n_comp, alpha, gamma)\n",
    "            else:\n",
    "                del obj"
   ]
  },
  {
   "cell_type": "code",
   "execution_count": null,
   "metadata": {},
   "outputs": [],
   "source": [
    "best"
   ]
  },
  {
   "cell_type": "markdown",
   "metadata": {},
   "source": [
    "# From over 5063 Hyperparameter combinaitons we find our best model"
   ]
  },
  {
   "cell_type": "code",
   "execution_count": null,
   "metadata": {},
   "outputs": [],
   "source": [
    "best_obj = best['Best Obj']"
   ]
  },
  {
   "cell_type": "code",
   "execution_count": null,
   "metadata": {},
   "outputs": [],
   "source": [
    "best_obj.predict(best_obj.testing.iloc[:,:-1])"
   ]
  },
  {
   "cell_type": "code",
   "execution_count": null,
   "metadata": {},
   "outputs": [],
   "source": [
    "evaluate(best_obj.predicted_labels, best_obj.testing['labels'])"
   ]
  }
 ],
 "metadata": {
  "kernelspec": {
   "display_name": "Python 3.7.6 64-bit",
   "language": "python",
   "name": "python37664bit16fa44404e4941f7996ce5d53eb37087"
  },
  "language_info": {
   "codemirror_mode": {
    "name": "ipython",
    "version": 3
   },
   "file_extension": ".py",
   "mimetype": "text/x-python",
   "name": "python",
   "nbconvert_exporter": "python",
   "pygments_lexer": "ipython3",
   "version": "3.7.6"
  }
 },
 "nbformat": 4,
 "nbformat_minor": 4
}
